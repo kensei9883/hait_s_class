{
 "cells": [
  {
   "cell_type": "code",
   "execution_count": 4,
   "metadata": {
    "collapsed": true
   },
   "outputs": [],
   "source": [
    "import numpy as np\n",
    "import matplotlib.pyplot as plt\n",
    "import pandas as pd\n",
    "%matplotlib inline"
   ]
  },
  {
   "cell_type": "code",
   "execution_count": 5,
   "metadata": {
    "collapsed": true
   },
   "outputs": [],
   "source": [
    "train_df=pd.read_csv('train.csv')\n",
    "test_df=pd.read_csv('test.csv')"
   ]
  },
  {
   "cell_type": "code",
   "execution_count": 7,
   "metadata": {},
   "outputs": [
    {
     "data": {
      "text/html": [
       "<div>\n",
       "<style>\n",
       "    .dataframe thead tr:only-child th {\n",
       "        text-align: right;\n",
       "    }\n",
       "\n",
       "    .dataframe thead th {\n",
       "        text-align: left;\n",
       "    }\n",
       "\n",
       "    .dataframe tbody tr th {\n",
       "        vertical-align: top;\n",
       "    }\n",
       "</style>\n",
       "<table border=\"1\" class=\"dataframe\">\n",
       "  <thead>\n",
       "    <tr style=\"text-align: right;\">\n",
       "      <th></th>\n",
       "      <th>1stFlrSF</th>\n",
       "      <th>2ndFlrSF</th>\n",
       "      <th>3SsnPorch</th>\n",
       "      <th>BedroomAbvGr</th>\n",
       "      <th>BsmtFinSF1</th>\n",
       "      <th>BsmtFinSF2</th>\n",
       "      <th>BsmtFullBath</th>\n",
       "      <th>BsmtHalfBath</th>\n",
       "      <th>BsmtUnfSF</th>\n",
       "      <th>EnclosedPorch</th>\n",
       "      <th>...</th>\n",
       "      <th>SaleType_ConLI</th>\n",
       "      <th>SaleType_ConLw</th>\n",
       "      <th>SaleType_New</th>\n",
       "      <th>SaleType_Oth</th>\n",
       "      <th>SaleType_WD</th>\n",
       "      <th>Street_Grvl</th>\n",
       "      <th>Street_Pave</th>\n",
       "      <th>Utilities_AllPub</th>\n",
       "      <th>Utilities_NoSeWa</th>\n",
       "      <th>SalePrice</th>\n",
       "    </tr>\n",
       "  </thead>\n",
       "  <tbody>\n",
       "    <tr>\n",
       "      <th>ExterQual_TA</th>\n",
       "      <td>-0.312844</td>\n",
       "      <td>-0.188984</td>\n",
       "      <td>-0.025626</td>\n",
       "      <td>0.036360</td>\n",
       "      <td>-0.128084</td>\n",
       "      <td>0.075127</td>\n",
       "      <td>-0.096217</td>\n",
       "      <td>0.076137</td>\n",
       "      <td>-0.282823</td>\n",
       "      <td>0.130818</td>\n",
       "      <td>...</td>\n",
       "      <td>-0.002482</td>\n",
       "      <td>-0.026643</td>\n",
       "      <td>-0.335148</td>\n",
       "      <td>0.035483</td>\n",
       "      <td>0.240734</td>\n",
       "      <td>-0.015958</td>\n",
       "      <td>0.015958</td>\n",
       "      <td>-0.020472</td>\n",
       "      <td>0.020472</td>\n",
       "      <td>-0.589044</td>\n",
       "    </tr>\n",
       "    <tr>\n",
       "      <th>KitchenQual_TA</th>\n",
       "      <td>-0.273566</td>\n",
       "      <td>-0.182739</td>\n",
       "      <td>-0.010519</td>\n",
       "      <td>0.017080</td>\n",
       "      <td>-0.108876</td>\n",
       "      <td>0.061258</td>\n",
       "      <td>-0.102007</td>\n",
       "      <td>0.032787</td>\n",
       "      <td>-0.218945</td>\n",
       "      <td>0.090396</td>\n",
       "      <td>...</td>\n",
       "      <td>-0.012126</td>\n",
       "      <td>-0.012126</td>\n",
       "      <td>-0.274335</td>\n",
       "      <td>0.045067</td>\n",
       "      <td>0.178612</td>\n",
       "      <td>0.042386</td>\n",
       "      <td>-0.042386</td>\n",
       "      <td>0.026360</td>\n",
       "      <td>-0.026360</td>\n",
       "      <td>-0.519298</td>\n",
       "    </tr>\n",
       "    <tr>\n",
       "      <th>BsmtQual_TA</th>\n",
       "      <td>-0.222508</td>\n",
       "      <td>-0.150144</td>\n",
       "      <td>-0.024260</td>\n",
       "      <td>0.089043</td>\n",
       "      <td>-0.121785</td>\n",
       "      <td>0.112889</td>\n",
       "      <td>-0.098442</td>\n",
       "      <td>0.067341</td>\n",
       "      <td>-0.122083</td>\n",
       "      <td>0.193447</td>\n",
       "      <td>...</td>\n",
       "      <td>0.018342</td>\n",
       "      <td>0.018342</td>\n",
       "      <td>-0.265143</td>\n",
       "      <td>-0.010153</td>\n",
       "      <td>0.161940</td>\n",
       "      <td>0.028718</td>\n",
       "      <td>-0.028718</td>\n",
       "      <td>-0.029266</td>\n",
       "      <td>0.029266</td>\n",
       "      <td>-0.452394</td>\n",
       "    </tr>\n",
       "    <tr>\n",
       "      <th>GarageFinish_Unf</th>\n",
       "      <td>-0.253960</td>\n",
       "      <td>-0.081906</td>\n",
       "      <td>-0.052794</td>\n",
       "      <td>0.009897</td>\n",
       "      <td>-0.179000</td>\n",
       "      <td>0.035795</td>\n",
       "      <td>-0.137590</td>\n",
       "      <td>0.053548</td>\n",
       "      <td>-0.128658</td>\n",
       "      <td>0.158564</td>\n",
       "      <td>...</td>\n",
       "      <td>-0.001712</td>\n",
       "      <td>-0.001712</td>\n",
       "      <td>-0.238934</td>\n",
       "      <td>-0.007466</td>\n",
       "      <td>0.172316</td>\n",
       "      <td>-0.010569</td>\n",
       "      <td>0.010569</td>\n",
       "      <td>0.022023</td>\n",
       "      <td>-0.022023</td>\n",
       "      <td>-0.410608</td>\n",
       "    </tr>\n",
       "    <tr>\n",
       "      <th>MasVnrType_None</th>\n",
       "      <td>-0.325566</td>\n",
       "      <td>-0.019491</td>\n",
       "      <td>-0.042266</td>\n",
       "      <td>-0.065965</td>\n",
       "      <td>-0.235217</td>\n",
       "      <td>0.071079</td>\n",
       "      <td>-0.116849</td>\n",
       "      <td>-0.039176</td>\n",
       "      <td>-0.121476</td>\n",
       "      <td>0.156023</td>\n",
       "      <td>...</td>\n",
       "      <td>0.000980</td>\n",
       "      <td>0.024834</td>\n",
       "      <td>-0.172209</td>\n",
       "      <td>0.037687</td>\n",
       "      <td>0.132540</td>\n",
       "      <td>0.009787</td>\n",
       "      <td>-0.009787</td>\n",
       "      <td>0.031521</td>\n",
       "      <td>-0.031521</td>\n",
       "      <td>-0.374468</td>\n",
       "    </tr>\n",
       "  </tbody>\n",
       "</table>\n",
       "<p>5 rows × 271 columns</p>\n",
       "</div>"
      ],
      "text/plain": [
       "                  1stFlrSF  2ndFlrSF  3SsnPorch  BedroomAbvGr  BsmtFinSF1  \\\n",
       "ExterQual_TA     -0.312844 -0.188984  -0.025626      0.036360   -0.128084   \n",
       "KitchenQual_TA   -0.273566 -0.182739  -0.010519      0.017080   -0.108876   \n",
       "BsmtQual_TA      -0.222508 -0.150144  -0.024260      0.089043   -0.121785   \n",
       "GarageFinish_Unf -0.253960 -0.081906  -0.052794      0.009897   -0.179000   \n",
       "MasVnrType_None  -0.325566 -0.019491  -0.042266     -0.065965   -0.235217   \n",
       "\n",
       "                  BsmtFinSF2  BsmtFullBath  BsmtHalfBath  BsmtUnfSF  \\\n",
       "ExterQual_TA        0.075127     -0.096217      0.076137  -0.282823   \n",
       "KitchenQual_TA      0.061258     -0.102007      0.032787  -0.218945   \n",
       "BsmtQual_TA         0.112889     -0.098442      0.067341  -0.122083   \n",
       "GarageFinish_Unf    0.035795     -0.137590      0.053548  -0.128658   \n",
       "MasVnrType_None     0.071079     -0.116849     -0.039176  -0.121476   \n",
       "\n",
       "                  EnclosedPorch    ...      SaleType_ConLI  SaleType_ConLw  \\\n",
       "ExterQual_TA           0.130818    ...           -0.002482       -0.026643   \n",
       "KitchenQual_TA         0.090396    ...           -0.012126       -0.012126   \n",
       "BsmtQual_TA            0.193447    ...            0.018342        0.018342   \n",
       "GarageFinish_Unf       0.158564    ...           -0.001712       -0.001712   \n",
       "MasVnrType_None        0.156023    ...            0.000980        0.024834   \n",
       "\n",
       "                  SaleType_New  SaleType_Oth  SaleType_WD  Street_Grvl  \\\n",
       "ExterQual_TA         -0.335148      0.035483     0.240734    -0.015958   \n",
       "KitchenQual_TA       -0.274335      0.045067     0.178612     0.042386   \n",
       "BsmtQual_TA          -0.265143     -0.010153     0.161940     0.028718   \n",
       "GarageFinish_Unf     -0.238934     -0.007466     0.172316    -0.010569   \n",
       "MasVnrType_None      -0.172209      0.037687     0.132540     0.009787   \n",
       "\n",
       "                  Street_Pave  Utilities_AllPub  Utilities_NoSeWa  SalePrice  \n",
       "ExterQual_TA         0.015958         -0.020472          0.020472  -0.589044  \n",
       "KitchenQual_TA      -0.042386          0.026360         -0.026360  -0.519298  \n",
       "BsmtQual_TA         -0.028718         -0.029266          0.029266  -0.452394  \n",
       "GarageFinish_Unf     0.010569          0.022023         -0.022023  -0.410608  \n",
       "MasVnrType_None     -0.009787          0.031521         -0.031521  -0.374468  \n",
       "\n",
       "[5 rows x 271 columns]"
      ]
     },
     "execution_count": 7,
     "metadata": {},
     "output_type": "execute_result"
    }
   ],
   "source": [
    "train_df.corr().sort_values(by='SalePrice').head()"
   ]
  },
  {
   "cell_type": "code",
   "execution_count": 9,
   "metadata": {
    "collapsed": true
   },
   "outputs": [],
   "source": [
    "X = train_df.loc[:,['OverallQual','GrLivArea','GarageCars']]"
   ]
  },
  {
   "cell_type": "code",
   "execution_count": 10,
   "metadata": {},
   "outputs": [
    {
     "data": {
      "text/html": [
       "<div>\n",
       "<style>\n",
       "    .dataframe thead tr:only-child th {\n",
       "        text-align: right;\n",
       "    }\n",
       "\n",
       "    .dataframe thead th {\n",
       "        text-align: left;\n",
       "    }\n",
       "\n",
       "    .dataframe tbody tr th {\n",
       "        vertical-align: top;\n",
       "    }\n",
       "</style>\n",
       "<table border=\"1\" class=\"dataframe\">\n",
       "  <thead>\n",
       "    <tr style=\"text-align: right;\">\n",
       "      <th></th>\n",
       "      <th>OverallQual</th>\n",
       "      <th>GrLivArea</th>\n",
       "      <th>GarageCars</th>\n",
       "    </tr>\n",
       "  </thead>\n",
       "  <tbody>\n",
       "    <tr>\n",
       "      <th>0</th>\n",
       "      <td>7.0</td>\n",
       "      <td>1710.0</td>\n",
       "      <td>2.0</td>\n",
       "    </tr>\n",
       "    <tr>\n",
       "      <th>1</th>\n",
       "      <td>6.0</td>\n",
       "      <td>1262.0</td>\n",
       "      <td>2.0</td>\n",
       "    </tr>\n",
       "    <tr>\n",
       "      <th>2</th>\n",
       "      <td>7.0</td>\n",
       "      <td>1786.0</td>\n",
       "      <td>2.0</td>\n",
       "    </tr>\n",
       "    <tr>\n",
       "      <th>3</th>\n",
       "      <td>7.0</td>\n",
       "      <td>1717.0</td>\n",
       "      <td>3.0</td>\n",
       "    </tr>\n",
       "    <tr>\n",
       "      <th>4</th>\n",
       "      <td>8.0</td>\n",
       "      <td>2198.0</td>\n",
       "      <td>3.0</td>\n",
       "    </tr>\n",
       "  </tbody>\n",
       "</table>\n",
       "</div>"
      ],
      "text/plain": [
       "   OverallQual  GrLivArea  GarageCars\n",
       "0          7.0     1710.0         2.0\n",
       "1          6.0     1262.0         2.0\n",
       "2          7.0     1786.0         2.0\n",
       "3          7.0     1717.0         3.0\n",
       "4          8.0     2198.0         3.0"
      ]
     },
     "execution_count": 10,
     "metadata": {},
     "output_type": "execute_result"
    }
   ],
   "source": [
    "X.head()"
   ]
  },
  {
   "cell_type": "code",
   "execution_count": 11,
   "metadata": {},
   "outputs": [
    {
     "data": {
      "text/plain": [
       "array([[208500],\n",
       "       [181500],\n",
       "       [223500],\n",
       "       [140000],\n",
       "       [250000],\n",
       "       [143000],\n",
       "       [307000],\n",
       "       [200000],\n",
       "       [129900],\n",
       "       [118000]])"
      ]
     },
     "execution_count": 11,
     "metadata": {},
     "output_type": "execute_result"
    }
   ],
   "source": [
    "y = train_df.loc[:,['SalePrice']].values\n",
    "y[:10]"
   ]
  },
  {
   "cell_type": "code",
   "execution_count": 12,
   "metadata": {
    "collapsed": true
   },
   "outputs": [],
   "source": [
    "from sklearn.model_selection import train_test_split\n",
    "X_train,X_test,y_train,y_test = train_test_split(X,y,test_size=0.3,random_state=0)"
   ]
  },
  {
   "cell_type": "code",
   "execution_count": 13,
   "metadata": {},
   "outputs": [
    {
     "name": "stdout",
     "output_type": "stream",
     "text": [
      "(1460, 3)\n",
      "(1460, 1)\n"
     ]
    }
   ],
   "source": [
    "print(X.shape)\n",
    "print(y.shape)"
   ]
  },
  {
   "cell_type": "code",
   "execution_count": 18,
   "metadata": {},
   "outputs": [
    {
     "data": {
      "text/plain": [
       "LinearRegression(copy_X=True, fit_intercept=True, n_jobs=1, normalize=False)"
      ]
     },
     "execution_count": 18,
     "metadata": {},
     "output_type": "execute_result"
    }
   ],
   "source": [
    "from sklearn.linear_model import LinearRegression\n",
    "lr = LinearRegression()\n",
    "lr.fit(X_train,y_train)"
   ]
  },
  {
   "cell_type": "code",
   "execution_count": 19,
   "metadata": {},
   "outputs": [
    {
     "data": {
      "text/plain": [
       "array([-98652.53380432])"
      ]
     },
     "execution_count": 19,
     "metadata": {},
     "output_type": "execute_result"
    }
   ],
   "source": [
    "lr.intercept_"
   ]
  },
  {
   "cell_type": "code",
   "execution_count": 22,
   "metadata": {},
   "outputs": [
    {
     "data": {
      "text/plain": [
       "array([[ 26032.22229536,     54.66365565,  21413.01669924]])"
      ]
     },
     "execution_count": 22,
     "metadata": {},
     "output_type": "execute_result"
    }
   ],
   "source": [
    "lr.coef_"
   ]
  },
  {
   "cell_type": "raw",
   "metadata": {},
   "source": []
  },
  {
   "cell_type": "code",
   "execution_count": 23,
   "metadata": {},
   "outputs": [
    {
     "name": "stdout",
     "output_type": "stream",
     "text": [
      "R^2\n",
      "train: 0.749\n",
      "test: 0.717\n"
     ]
    }
   ],
   "source": [
    "print('R^2')\n",
    "print('train: %.3f' % Ir.score(X_train,y_train))\n",
    "print('test: %.3f' % Ir.score(X_test,y_test))"
   ]
  },
  {
   "cell_type": "code",
   "execution_count": 24,
   "metadata": {
    "collapsed": true
   },
   "outputs": [],
   "source": [
    "def adjusted(score, n_sample, n_features):\n",
    "    adjusted_score = 1 - (1 - score) * ((n_sample - 1) / (n_sample - n_features - 1))\n",
    "    return adjusted_score"
   ]
  },
  {
   "cell_type": "code",
   "execution_count": 25,
   "metadata": {},
   "outputs": [
    {
     "name": "stdout",
     "output_type": "stream",
     "text": [
      "adjusted R^2\n",
      "train: 0.748307\n",
      "test : 0.715892\n"
     ]
    }
   ],
   "source": [
    "print('adjusted R^2')\n",
    "print('train: %3f' % adjusted(Ir.score(X_train, y_train), len(y_train), 2))\n",
    "print('test : %3f' % adjusted(Ir.score(X_test, y_test), len(y_test), 2))"
   ]
  },
  {
   "cell_type": "code",
   "execution_count": 27,
   "metadata": {},
   "outputs": [
    {
     "name": "stdout",
     "output_type": "stream",
     "text": [
      "RMSE\n",
      "train: 766129069.822\n",
      "test : 959989861.178\n"
     ]
    }
   ],
   "source": [
    "from sklearn.metrics import mean_squared_error as mse\n",
    "print('RMSE')\n",
    "print('train: %.3f' % (mse(y_train, Ir.predict(X_train)) ** 1/2))\n",
    "print('test : %.3f' % (mse(y_test, Ir.predict(X_test)) ** 1/2))"
   ]
  },
  {
   "cell_type": "code",
   "execution_count": 28,
   "metadata": {},
   "outputs": [
    {
     "name": "stdout",
     "output_type": "stream",
     "text": [
      "これでおっけい？かな\n"
     ]
    }
   ],
   "source": [
    "print(\"これでおっけい？かな\")"
   ]
  },
  {
   "cell_type": "code",
   "execution_count": null,
   "metadata": {
    "collapsed": true
   },
   "outputs": [],
   "source": []
  }
 ],
 "metadata": {
  "kernelspec": {
   "display_name": "Python 3",
   "language": "python",
   "name": "python3"
  },
  "language_info": {
   "codemirror_mode": {
    "name": "ipython",
    "version": 3
   },
   "file_extension": ".py",
   "mimetype": "text/x-python",
   "name": "python",
   "nbconvert_exporter": "python",
   "pygments_lexer": "ipython3",
   "version": "3.6.2"
  }
 },
 "nbformat": 4,
 "nbformat_minor": 2
}
